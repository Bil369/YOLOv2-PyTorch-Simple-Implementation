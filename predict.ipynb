{
 "cells": [
  {
   "cell_type": "code",
   "execution_count": 1,
   "metadata": {},
   "outputs": [],
   "source": [
    "import os\n",
    "import cv2\n",
    "import glob\n",
    "import pickle\n",
    "import argparse\n",
    "import numpy as np\n",
    "from src.utils import *\n",
    "from src.yolo_net import Yolo"
   ]
  },
  {
   "cell_type": "code",
   "execution_count": 2,
   "metadata": {},
   "outputs": [],
   "source": [
    "image_path = 'testImage.JPG'\n",
    "CLASSES = ['aeroplane', 'bicycle', 'bird', 'boat', 'bottle', 'bus', 'car', 'cat', 'chair', 'cow',\n",
    "           'diningtable', 'dog', 'horse', 'motorbike', 'person', 'pottedplant', 'sheep', 'sofa', 'train', 'tvmonitor']\n",
    "image_size = 448"
   ]
  },
  {
   "cell_type": "code",
   "execution_count": 3,
   "metadata": {},
   "outputs": [
    {
     "name": "stdout",
     "output_type": "stream",
     "text": [
      "Object: cat, Bounding box: (330,875) (217,786)\n"
     ]
    }
   ],
   "source": [
    "model = Yolo(20)\n",
    "model.cuda()\n",
    "model.load_state_dict(torch.load('trained_models/yolov2_voc_weights1.pth'))\n",
    "model.eval()\n",
    "colors = pickle.load(open(\"src/pallete\", \"rb\"))\n",
    "\n",
    "image = cv2.imread(image_path)\n",
    "image = cv2.cvtColor(image, cv2.COLOR_BGR2RGB)\n",
    "height, width = image.shape[:2]\n",
    "image = cv2.resize(image, (image_size, image_size))\n",
    "image = np.transpose(np.array(image, dtype=np.float32), (2, 0, 1))\n",
    "image = image[None, :, :, :]\n",
    "width_ratio = float(image_size) / width\n",
    "height_ratio = float(image_size) / height\n",
    "data = Variable(torch.FloatTensor(image))\n",
    "if torch.cuda.is_available():\n",
    "    data = data.cuda()\n",
    "with torch.no_grad():\n",
    "    logits = model(data)\n",
    "    predictions = post_processing(logits, image_size, CLASSES, model.anchors, 0.35, 0.5)\n",
    "\n",
    "if len(predictions) != 0:\n",
    "    predictions = predictions[0]\n",
    "    output_image = cv2.imread(image_path)\n",
    "    for pred in predictions:\n",
    "        xmin = int(max(pred[0] / width_ratio, 0))\n",
    "        ymin = int(max(pred[1] / height_ratio, 0))\n",
    "        xmax = int(min((pred[0] + pred[2]) / width_ratio, width))\n",
    "        ymax = int(min((pred[1] + pred[3]) / height_ratio, height))\n",
    "        color = colors[CLASSES.index(pred[5])]\n",
    "        cv2.rectangle(output_image, (xmin, ymin), (xmax, ymax), color, 2)\n",
    "        text_size = cv2.getTextSize(pred[5] + ' : %.2f' % pred[4], cv2.FONT_HERSHEY_SIMPLEX, 1, 1)[0]\n",
    "        cv2.rectangle(output_image, (xmin, ymin), (xmin + text_size[0] + 3, ymin + text_size[1] + 4), color, -1)\n",
    "        cv2.putText(\n",
    "            output_image, pred[5] + ' : %.2f' % pred[4],\n",
    "            (xmin, ymin + text_size[1] + 4), cv2.FONT_HERSHEY_SIMPLEX, 1,\n",
    "            (255, 255, 255), 1)\n",
    "        print(\"Object: {}, Bounding box: ({},{}) ({},{})\".format(pred[5], xmin, xmax, ymin, ymax))\n",
    "    cv2.imwrite(image_path.split('.')[0] + '_result.' + image_path.split('.')[1], output_image)"
   ]
  },
  {
   "cell_type": "code",
   "execution_count": null,
   "metadata": {},
   "outputs": [],
   "source": []
  }
 ],
 "metadata": {
  "kernelspec": {
   "display_name": "Python 3",
   "language": "python",
   "name": "python3"
  },
  "language_info": {
   "codemirror_mode": {
    "name": "ipython",
    "version": 3
   },
   "file_extension": ".py",
   "mimetype": "text/x-python",
   "name": "python",
   "nbconvert_exporter": "python",
   "pygments_lexer": "ipython3",
   "version": "3.7.6"
  }
 },
 "nbformat": 4,
 "nbformat_minor": 4
}
